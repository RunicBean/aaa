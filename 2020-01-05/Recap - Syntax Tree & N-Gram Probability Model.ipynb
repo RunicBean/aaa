{
 "cells": [
  {
   "cell_type": "markdown",
   "metadata": {},
   "source": [
    "## Syntax Tree"
   ]
  },
  {
   "cell_type": "markdown",
   "metadata": {},
   "source": [
    "> 假设需要建立一个自动语句生成器，一般的想法是将生成规则写入一套代码中，这时如果需要修改规则，则整个代码都要重新设计，不具有普适性。但是如果我们将规则以一定的格式放在文本中，然后通过程序去解析文本，这样只需要修改文本格式即可达到重新设计规则的目的，增强复用性。"
   ]
  },
  {
   "cell_type": "markdown",
   "metadata": {},
   "source": [
    "> 抽象语法树（AST）：或简称语法树，是用编程语言编写的源代码的抽象语法结构的树表示。其不表示具体的语法细节，而是表示语法的结构，语法间的关系。"
   ]
  },
  {
   "cell_type": "markdown",
   "metadata": {},
   "source": [
    "```python\n",
    "# 将规则写在文本中\n",
    "customer = '''\n",
    "customer = 询问 指向动作 人称 动作 数量 量词 食物 句尾 , 感激 。\n",
    "询问 = 能 | 可以 | 能不能\n",
    "指向动作 = 帮 | 给 | 为\n",
    "人称 = 我 | 他 | 朋友\n",
    "朋友 = 小明 | 小张\n",
    "动作 = 准备 | 上 | 来\n",
    "数量 = 一 | 两 | 三\n",
    "量词 = 份 | 打\n",
    "食物 = 墨西哥卷饼 | 披萨 | 啤酒 | 爆米花\n",
    "句尾 = 吗\n",
    "感激 = 非常感谢 | 谢谢 | 感激不尽 | 大恩不言谢\n",
    "'''\n",
    "```"
   ]
  },
  {
   "cell_type": "markdown",
   "metadata": {},
   "source": [
    "代码逻辑：\n",
    "以customer为主语句，里面对应单词作为key，用下面对应key的value替换，即可随机生成语句。只要后续customer文本的规则语法不变，则可以随意修改输出的内容。"
   ]
  },
  {
   "cell_type": "markdown",
   "metadata": {},
   "source": [
    "output：\n",
    "```python\n",
    "['可以给小张上两打披萨吗,大恩不言谢。',\n",
    " '能为我来三打啤酒吗,感激不尽。',\n",
    " '能不能给他准备一份披萨吗,非常感谢。',\n",
    " '可以为小张上三份啤酒吗,感激不尽。',\n",
    " '能给他上三份啤酒吗,谢谢。',\n",
    " '能给他来两打爆米花吗,大恩不言谢。',\n",
    " '能不能为我来两打披萨吗,谢谢。',\n",
    " '能不能给小明准备两打披萨吗,感激不尽。',\n",
    " '能不能给他准备一打啤酒吗,大恩不言谢。',\n",
    " '可以帮我来一打爆米花吗,大恩不言谢。']\n",
    "```"
   ]
  },
  {
   "cell_type": "markdown",
   "metadata": {},
   "source": [
    "### Data Driven"
   ]
  },
  {
   "cell_type": "markdown",
   "metadata": {},
   "source": [
    "数据驱动，即以数据为核心的方法，保证模型能够根据数据的变化，而改变输出的结果，而不是改变模型本身。数据驱动在这个程序里就是一种理念，程序模型不用做修改，只要改变问答句的规则，就可以扩展其功能。"
   ]
  },
  {
   "cell_type": "markdown",
   "metadata": {},
   "source": [
    "### Language Model"
   ]
  },
  {
   "cell_type": "markdown",
   "metadata": {},
   "source": [
    "使用条件概率，来定义词与词之间的先后顺序，即假定一个词和它后面的N-1个词有关系，这被称为N-Gram模型。使用的公式为$$ P(sentence) = \\prod_i^{n} \\frac{\\# W_iW_{i+1}}{\\# W_{i+1}}P(w_n) $$这里的$W_iW_{i+1}$表示一个词与后面的词同时出现的概率。"
   ]
  },
  {
   "cell_type": "markdown",
   "metadata": {},
   "source": [
    "那我们如何定义词出现的概率呢？如果是一个词出现的概率，直接用词出现的频率表示即可。如果是两个词按顺序同时出现的概率，则可以先将单个词列表中的元素两两拼接，转化成一个双词词组组成的列表。那么一个双词词组的频率即为其概率。N-Gram在增大的时候，同理。"
   ]
  },
  {
   "cell_type": "markdown",
   "metadata": {},
   "source": [
    "当一个双词词组没有在列表中出现过的时候，有点难以处理，前期可以简单的假设出现过一次，在数据量很大的情况下，概率也可以约为0。"
   ]
  }
 ],
 "metadata": {
  "kernelspec": {
   "display_name": "Python 3",
   "language": "python",
   "name": "python3"
  },
  "language_info": {
   "codemirror_mode": {
    "name": "ipython",
    "version": 3
   },
   "file_extension": ".py",
   "mimetype": "text/x-python",
   "name": "python",
   "nbconvert_exporter": "python",
   "pygments_lexer": "ipython3",
   "version": "3.7.4"
  }
 },
 "nbformat": 4,
 "nbformat_minor": 2
}
