{
 "cells": [
  {
   "cell_type": "code",
   "execution_count": 21,
   "metadata": {},
   "outputs": [],
   "source": [
    "import random"
   ]
  },
  {
   "cell_type": "code",
   "execution_count": 30,
   "metadata": {},
   "outputs": [],
   "source": [
    "data = \"\"\"\n",
    "customer = 询问 指向动作 人称 动作 数量 量词 食物 句尾 , 感激 。\n",
    "询问 = 能 | 可以 | 能不能\n",
    "指向动作 = 帮 | 给 | 为\n",
    "人称 = 我 | 他 | 朋友\n",
    "朋友 = 小明 | 小张\n",
    "动作 = 准备 | 上 | 来\n",
    "数量 = 一 | 两 | 三\n",
    "量词 = 份 | 打\n",
    "食物 = 墨西哥卷饼 | 披萨 | 啤酒 | 爆米花\n",
    "句尾 = 吗\n",
    "感激 = 非常感谢 | 谢谢 | 感激不尽 | 大恩不言谢\n",
    "\"\"\""
   ]
  },
  {
   "cell_type": "code",
   "execution_count": 31,
   "metadata": {},
   "outputs": [],
   "source": [
    "choice = random.choice"
   ]
  },
  {
   "cell_type": "code",
   "execution_count": 32,
   "metadata": {},
   "outputs": [],
   "source": [
    "def generate_grammer_dict_by_str(grammar_expr: str):\n",
    "    grammar_dic = dict()\n",
    "    lines = grammar_expr.split('\\n')\n",
    "    for line in lines:\n",
    "        if not line:\n",
    "            continue\n",
    "        k, v = line.split('=')\n",
    "        formula = [i.strip() for i in v.split('|')]\n",
    "        grammar_dic[k.strip()] = [i.split() for i in formula]\n",
    "    return grammar_dic"
   ]
  },
  {
   "cell_type": "code",
   "execution_count": 33,
   "metadata": {},
   "outputs": [],
   "source": [
    "def choose_word_from_dict(key, dic):\n",
    "    if isinstance(key, list):\n",
    "        key = key[0]\n",
    "    if key not in dic:\n",
    "        return key\n",
    "    else:\n",
    "        return choose_word_from_dict(choice(dic[key]), dic)"
   ]
  },
  {
   "cell_type": "code",
   "execution_count": 34,
   "metadata": {},
   "outputs": [],
   "source": [
    "def generate_sentence_by_grammar_dic(grammar_dic: dict, target: str):\n",
    "    final_sentence_word_list = list()\n",
    "    expr = choice(grammar_dic[target])\n",
    "    for sen_word in expr:\n",
    "        if sen_word in grammar_dic:\n",
    "            final_sentence_word_list.append(generate_sentence_by_grammar_dic(grammar_dic, sen_word))\n",
    "        else:\n",
    "            final_sentence_word_list.append(sen_word)\n",
    "    return final_sentence_word_list"
   ]
  },
  {
   "cell_type": "code",
   "execution_count": 35,
   "metadata": {},
   "outputs": [],
   "source": [
    "def return_str_from_li(li):\n",
    "    if isinstance(li, str):\n",
    "        return li\n",
    "    else:\n",
    "        string = ''\n",
    "        for i in li:\n",
    "            string += return_str_from_li(i)\n",
    "        return string"
   ]
  },
  {
   "cell_type": "code",
   "execution_count": 36,
   "metadata": {},
   "outputs": [],
   "source": [
    "def generate(data, target):\n",
    "    final_sentence = ''\n",
    "    for i in generate_sentence_by_grammar_dic(generate_grammer_dict_by_str(data), target):\n",
    "        final_sentence += return_str_from_li(i)\n",
    "    return final_sentence"
   ]
  },
  {
   "cell_type": "code",
   "execution_count": 37,
   "metadata": {},
   "outputs": [
    {
     "name": "stdout",
     "output_type": "stream",
     "text": [
      "可以为我上两打披萨吗,谢谢。\n",
      "可以给我准备两打爆米花吗,谢谢。\n",
      "可以为小明来一打爆米花吗,感激不尽。\n",
      "能不能给他准备三打啤酒吗,感激不尽。\n",
      "可以给我准备两份披萨吗,非常感谢。\n",
      "能帮小明来三打啤酒吗,感激不尽。\n",
      "能为小明来一打啤酒吗,大恩不言谢。\n",
      "能为他来一打披萨吗,感激不尽。\n",
      "能不能为我准备两份墨西哥卷饼吗,大恩不言谢。\n",
      "可以帮他准备一打爆米花吗,感激不尽。\n"
     ]
    }
   ],
   "source": [
    "for i in range(10):\n",
    "    print(generate(data, 'customer'))"
   ]
  },
  {
   "cell_type": "code",
   "execution_count": null,
   "metadata": {},
   "outputs": [],
   "source": []
  }
 ],
 "metadata": {
  "kernelspec": {
   "display_name": "Python 3",
   "language": "python",
   "name": "python3"
  },
  "language_info": {
   "codemirror_mode": {
    "name": "ipython",
    "version": 3
   },
   "file_extension": ".py",
   "mimetype": "text/x-python",
   "name": "python",
   "nbconvert_exporter": "python",
   "pygments_lexer": "ipython3",
   "version": "3.7.4"
  }
 },
 "nbformat": 4,
 "nbformat_minor": 2
}
