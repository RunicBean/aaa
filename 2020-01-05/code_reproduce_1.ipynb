{
 "cells": [
  {
   "cell_type": "code",
   "execution_count": 1,
   "metadata": {},
   "outputs": [],
   "source": [
    "import random"
   ]
  },
  {
   "cell_type": "code",
   "execution_count": 2,
   "metadata": {},
   "outputs": [],
   "source": [
    "data = \"\"\"\n",
    "    sentence = if someone state , then do something\n",
    "    if = 既然 | 如果 | 假设\n",
    "    someone = one 和 someone | one\n",
    "    one = 我 | 你 | 小红 | 小明\n",
    "    state = 饿了 | 累了 | 困了 | 疯了\n",
    "    then = 那么 | 就 | 可以 | 还是\n",
    "    do = 去 \n",
    "    something = 吃饭 | 睡觉 | 玩游戏 \n",
    "\"\"\""
   ]
  },
  {
   "cell_type": "code",
   "execution_count": 4,
   "metadata": {},
   "outputs": [],
   "source": [
    "choice = random.choice"
   ]
  },
  {
   "cell_type": "code",
   "execution_count": 5,
   "metadata": {},
   "outputs": [],
   "source": [
    "def generate_grammer_dict_by_str(grammar_expr: str):\n",
    "    grammar_dic = dict()\n",
    "    lines = grammar_expr.split('\\n')\n",
    "    for line in lines:\n",
    "        if not line:\n",
    "            continue\n",
    "        k, v = line.split('=')\n",
    "        formula = [i.strip() for i in v.split('|')]\n",
    "        grammar_dic[k.strip()] = [i.split() for i in formula]\n",
    "    return grammar_dic"
   ]
  },
  {
   "cell_type": "code",
   "execution_count": 6,
   "metadata": {},
   "outputs": [],
   "source": [
    "def choose_word_from_dict(key, dic):\n",
    "    if isinstance(key, list):\n",
    "        key = key[0]\n",
    "    if key not in dic:\n",
    "        return key\n",
    "    else:\n",
    "        return choose_word_from_dict(choice(dic[key]), dic)"
   ]
  },
  {
   "cell_type": "code",
   "execution_count": 7,
   "metadata": {},
   "outputs": [],
   "source": [
    "def generate_sentence_by_grammar_dic(grammar_dic: dict, target: str):\n",
    "    final_sentence_word_list = list()\n",
    "    expr = choice(grammar_dic[target])\n",
    "    for sen_word in expr:\n",
    "        if sen_word in grammar_dic:\n",
    "            final_sentence_word_list.append(generate_sentence_by_grammar_dic(grammar_dic, sen_word))\n",
    "        else:\n",
    "            final_sentence_word_list.append(sen_word)\n",
    "    return final_sentence_word_list"
   ]
  },
  {
   "cell_type": "code",
   "execution_count": 8,
   "metadata": {},
   "outputs": [],
   "source": [
    "def return_str_from_li(li):\n",
    "    if isinstance(li, str):\n",
    "        return li\n",
    "    else:\n",
    "        string = ''\n",
    "        for i in li:\n",
    "            string += return_str_from_li(i)\n",
    "        return string"
   ]
  },
  {
   "cell_type": "code",
   "execution_count": 9,
   "metadata": {},
   "outputs": [],
   "source": [
    "def generate_words(data, target):\n",
    "    final_sentence = ''\n",
    "    for i in generate_sentence_by_grammar_dic(generate_grammer_dict_by_str(data), target):\n",
    "        final_sentence += return_str_from_li(i)\n",
    "    return final_sentence"
   ]
  },
  {
   "cell_type": "code",
   "execution_count": 10,
   "metadata": {},
   "outputs": [
    {
     "name": "stdout",
     "output_type": "stream",
     "text": [
      "既然小明疯了,可以去睡觉\n",
      "既然小明饿了,就去吃饭\n",
      "既然小红困了,可以去吃饭\n",
      "既然小明和小红和我和小明和小红和你饿了,还是去吃饭\n",
      "如果小红和你疯了,还是去睡觉\n",
      "假设我和小红疯了,那么去睡觉\n",
      "假设小红和小明疯了,就去玩游戏\n",
      "既然小红和你和小明和小红困了,可以去玩游戏\n",
      "假设你和你疯了,还是去吃饭\n",
      "既然小红累了,还是去睡觉\n"
     ]
    }
   ],
   "source": [
    "for i in range(10):\n",
    "    print(generate_words(data, 'sentence'))"
   ]
  },
  {
   "cell_type": "code",
   "execution_count": null,
   "metadata": {},
   "outputs": [],
   "source": []
  }
 ],
 "metadata": {
  "kernelspec": {
   "display_name": "Python 3",
   "language": "python",
   "name": "python3"
  },
  "language_info": {
   "codemirror_mode": {
    "name": "ipython",
    "version": 3
   },
   "file_extension": ".py",
   "mimetype": "text/x-python",
   "name": "python",
   "nbconvert_exporter": "python",
   "pygments_lexer": "ipython3",
   "version": "3.7.4"
  }
 },
 "nbformat": 4,
 "nbformat_minor": 2
}
