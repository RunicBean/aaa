{
 "cells": [
  {
   "cell_type": "markdown",
   "metadata": {},
   "source": [
    "# Linear Regression"
   ]
  },
  {
   "cell_type": "markdown",
   "metadata": {},
   "source": [
    "## sklearn.linear_model.LinearRegression"
   ]
  },
  {
   "cell_type": "markdown",
   "metadata": {},
   "source": [
    "Attributes\n",
    "1. coef_ 梯度组 相当于$\\vec{\\omega}x + b$前面的向量$\\vec{\\omega}$\n",
    "2. rank_ 秩\n",
    "3. intercept_ 截距，相当于$\\vec{\\omega}x + b$后面的截距$b$\n",
    "4. singular_ 奇异值"
   ]
  },
  {
   "cell_type": "code",
   "execution_count": 1,
   "metadata": {},
   "outputs": [],
   "source": [
    "import numpy as np"
   ]
  },
  {
   "cell_type": "code",
   "execution_count": 4,
   "metadata": {
    "scrolled": true
   },
   "outputs": [],
   "source": [
    "r_np_arrays = np.random.random([30, 2])"
   ]
  },
  {
   "cell_type": "code",
   "execution_count": 65,
   "metadata": {},
   "outputs": [],
   "source": [
    "X = r_np_arrays[:, 0]\n",
    "y = r_np_arrays[:, 1]"
   ]
  },
  {
   "cell_type": "code",
   "execution_count": 66,
   "metadata": {},
   "outputs": [
    {
     "data": {
      "text/plain": [
       "array([0.010986  , 0.11813667, 0.94906154, 0.60352817, 0.77837644,\n",
       "       0.08839188, 0.96662226, 0.21347977, 0.91323736, 0.7591824 ,\n",
       "       0.78210011, 0.54727654, 0.67418812, 0.46349628, 0.05497053,\n",
       "       0.21403868, 0.08647563, 0.28714877, 0.86564481, 0.62829842,\n",
       "       0.06478898, 0.98791578, 0.3826748 , 0.68486047, 0.45352315,\n",
       "       0.45648382, 0.42579386, 0.0180044 , 0.91135237, 0.85011396])"
      ]
     },
     "execution_count": 66,
     "metadata": {},
     "output_type": "execute_result"
    }
   ],
   "source": [
    "X"
   ]
  },
  {
   "cell_type": "code",
   "execution_count": 67,
   "metadata": {
    "scrolled": true
   },
   "outputs": [
    {
     "data": {
      "text/plain": [
       "array([0.30485422, 0.4257966 , 0.05284577, 0.95160841, 0.60436687,\n",
       "       0.50575859, 0.71116772, 0.28921273, 0.41139484, 0.63963706,\n",
       "       0.65969397, 0.63723975, 0.14272572, 0.54118527, 0.96036305,\n",
       "       0.43727876, 0.87050683, 0.47858491, 0.49335425, 0.82845673,\n",
       "       0.39150429, 0.91287886, 0.95629889, 0.34358532, 0.71936032,\n",
       "       0.23198357, 0.18292566, 0.80002244, 0.46256654, 0.98483811])"
      ]
     },
     "execution_count": 67,
     "metadata": {},
     "output_type": "execute_result"
    }
   ],
   "source": [
    "y"
   ]
  },
  {
   "cell_type": "code",
   "execution_count": 73,
   "metadata": {},
   "outputs": [],
   "source": [
    "import random\n",
    "def new_y(x):\n",
    "    return 13.4 * x + 5 + random.randint(-5, 5)\n",
    "\n",
    "y = [new_y(y_ele) for y_ele in X]"
   ]
  },
  {
   "cell_type": "code",
   "execution_count": 74,
   "metadata": {},
   "outputs": [],
   "source": [
    "X = X.reshape(-1, 1)"
   ]
  },
  {
   "cell_type": "code",
   "execution_count": 75,
   "metadata": {},
   "outputs": [],
   "source": [
    "import matplotlib.pyplot as plt"
   ]
  },
  {
   "cell_type": "code",
   "execution_count": 76,
   "metadata": {},
   "outputs": [
    {
     "data": {
      "text/plain": [
       "<matplotlib.collections.PathCollection at 0x223ce3a25c8>"
      ]
     },
     "execution_count": 76,
     "metadata": {},
     "output_type": "execute_result"
    },
    {
     "data": {
      "image/png": "[encoded data removed]",
      "text/plain": [
       "<Figure size 432x288 with 1 Axes>"
      ]
     },
     "metadata": {
      "needs_background": "light"
     },
     "output_type": "display_data"
    }
   ],
   "source": [
    "plt.scatter(X, y)"
   ]
  },
  {
   "cell_type": "code",
   "execution_count": 77,
   "metadata": {},
   "outputs": [],
   "source": [
    "from sklearn.linear_model import LinearRegression"
   ]
  },
  {
   "cell_type": "code",
   "execution_count": 78,
   "metadata": {},
   "outputs": [],
   "source": [
    "reg = LinearRegression().fit(X, y)"
   ]
  },
  {
   "cell_type": "code",
   "execution_count": 79,
   "metadata": {},
   "outputs": [],
   "source": [
    "def f(x):\n",
    "    return reg.coef_ * x + reg.intercept_"
   ]
  },
  {
   "cell_type": "code",
   "execution_count": 80,
   "metadata": {},
   "outputs": [
    {
     "data": {
      "text/plain": [
       "[<matplotlib.lines.Line2D at 0x223ce3f8f48>]"
      ]
     },
     "execution_count": 80,
     "metadata": {},
     "output_type": "execute_result"
    },
    {
     "data": {
      "image/png": "[encoded data removed]",
      "text/plain": [
       "<Figure size 432x288 with 1 Axes>"
      ]
     },
     "metadata": {
      "needs_background": "light"
     },
     "output_type": "display_data"
    }
   ],
   "source": [
    "plt.scatter(X, y)\n",
    "plt.plot(X, f(X), color='red')"
   ]
  },
  {
   "cell_type": "markdown",
   "metadata": {},
   "source": [
    "# Email Classification（Naive Bayes Classifier）"
   ]
  },
  {
   "cell_type": "markdown",
   "metadata": {},
   "source": [
    "将邮件中的垃圾邮件分类出来，依据垃圾邮件和同时出现的文字的概率，进行分类。$w_1$$w_2$等代表相关的文字。"
   ]
  },
  {
   "cell_type": "markdown",
   "metadata": {},
   "source": [
    "$P(Spam|w_1w_2w_3w_4) = \\frac{P(w_1w_2w_3w_4|Spam)P(Spam)}{P(w_1w_2w_3w_4)}$"
   ]
  },
  {
   "cell_type": "markdown",
   "metadata": {},
   "source": [
    "$P(\\overline{Spam}|w_1w_2w_3w_4) = \\frac{P(w_1w_2w_3w_4|\\overline{Spam})P(\\overline{Spam})}{P(w_1w_2w_3w_4)}$"
   ]
  },
  {
   "cell_type": "markdown",
   "metadata": {},
   "source": [
    "根据比较上述属于或不属于垃圾邮件的概率，决定是否分为垃圾邮件。\n",
    "其中$P(Spam)$代表先验概率(prior probability)，即整个样本中spam的概率。可以认为先验概率是整个大环境的概率。"
   ]
  },
  {
   "cell_type": "markdown",
   "metadata": {},
   "source": [
    "$P(w_1w_2w_3w_4|Spam)P(Spam)$  \n",
    "$= P(w_1w_2w_3w_4Spam)$  \n",
    "$= P(w_1|w_2w_3w_4Spam)P(w_2w_3w_4Spam)$  \n",
    "$= P(w_1|w_2w_3w_4Spam)P(w_2|w_3w_4Spam)P(w_3w_4Spam)$  \n",
    "$= P(w_1|w_2w_3w_4Spam)P(w_2|w_3w_4Spam)P(w_3|w_4Spam)P(w_4|Spam)P(Spam)$"
   ]
  },
  {
   "cell_type": "markdown",
   "metadata": {},
   "source": [
    "在最理想的情况下，贝叶斯公式的分子部分可以按照上述方式分解，但我们可以假定每一个词出现与否只和一个因素相关，则类似$P(w_1|w_2w_3w_4Spam)$可以简化为$P(w_1|Spam)$"
   ]
  },
  {
   "cell_type": "markdown",
   "metadata": {},
   "source": [
    "所以将上式简化成$P(w_1|Spam)P(w_2|Spam)...P(w_n|Spam)P(Spam)$  \n",
    "即$\\prod_{i=1}^{n}P(w_i|Spam)*P(Spam)$"
   ]
  },
  {
   "cell_type": "markdown",
   "metadata": {},
   "source": [
    "### 朴素贝叶斯分类器的特点\n",
    "1. 不是绝对分类，而是给了两极可能性的对比，可以考虑从对比中判断类别。"
   ]
  },
  {
   "cell_type": "markdown",
   "metadata": {},
   "source": [
    "# K-nearest Neighbors"
   ]
  },
  {
   "cell_type": "markdown",
   "metadata": {},
   "source": [
    "KNN也就是K近邻算法，本质上就是寻找需要分类的点周围最近的K个训练点，然后根据这K个训练点的特征来分类。所以KNN是一种原理简单但是很强大，适用性很广的分类算法。  \n",
    "Classification is computed from a simple majority vote of the nearest neighbors of each point: a query point is assigned the data class which has the most representatives within the nearest neighbors of the point."
   ]
  },
  {
   "cell_type": "markdown",
   "metadata": {},
   "source": [
    "缺点：\n",
    "1. 需要大量storage\n",
    "2. Inference speed很慢\n",
    "3. 无法处理异常值(\"outliner\")，对异常值比较敏感  \n",
    "\n",
    "优点：\n",
    "1. 理论上可以拟合任何可能的复杂的函数"
   ]
  },
  {
   "cell_type": "markdown",
   "metadata": {},
   "source": [
    "讨论点：\n",
    "1. k值的选择，如果过小，则容易受到噪声干扰产生**过拟合**，如果过大，则会有可能被分到远离近邻点的类中。\n",
    "> 降低k值的影响，可以根据距离来加权。例如：$Weight = \\frac{1}{distance}$"
   ]
  },
  {
   "cell_type": "markdown",
   "metadata": {},
   "source": [
    "### sklearn.neighbors.KNeighborsClassifier"
   ]
  },
  {
   "cell_type": "markdown",
   "metadata": {},
   "source": [
    "n_neighbors: int  \n",
    "weights: str or callable {'uniform', 'distance', callable}   \n",
    "weights决定与距离相关的权重，用来降低k值得影响。uniform是权重一定，distance是根据距离加权，猜测是$\\frac{1}{distance}$，callable是接收一个距离数组，返回一个等长的加权数组。"
   ]
  },
  {
   "cell_type": "markdown",
   "metadata": {},
   "source": [
    "# Decision Tree"
   ]
  },
  {
   "cell_type": "code",
   "execution_count": 88,
   "metadata": {},
   "outputs": [],
   "source": [
    "import pandas as pd\n",
    "import numpy as np"
   ]
  },
  {
   "cell_type": "code",
   "execution_count": 87,
   "metadata": {},
   "outputs": [],
   "source": [
    "from collections import Counter"
   ]
  },
  {
   "cell_type": "code",
   "execution_count": 131,
   "metadata": {},
   "outputs": [],
   "source": [
    "mock_data = {\n",
    "    'gender':['F', 'F', 'F', 'F', 'M', 'M', 'M'],\n",
    "    'income': ['+10', '-10', '+10', '+10', '+10', '+10', '-10'],\n",
    "    'family_number': [1, 1, 2, 1, 1, 1, 2],\n",
    "    # 'pet': [1, 1, 1, 0, 0, 0, 1],\n",
    "    'bought': [1, 1, 1, 0, 0, 0, 1],\n",
    "}"
   ]
  },
  {
   "cell_type": "code",
   "execution_count": 132,
   "metadata": {},
   "outputs": [],
   "source": [
    "df = pd.DataFrame(mock_data)"
   ]
  },
  {
   "cell_type": "code",
   "execution_count": 133,
   "metadata": {
    "scrolled": false
   },
   "outputs": [
    {
     "data": {
      "text/html": [
       "<div>\n",
       "<style scoped>\n",
       "    .dataframe tbody tr th:only-of-type {\n",
       "        vertical-align: middle;\n",
       "    }\n",
       "\n",
       "    .dataframe tbody tr th {\n",
       "        vertical-align: top;\n",
       "    }\n",
       "\n",
       "    .dataframe thead th {\n",
       "        text-align: right;\n",
       "    }\n",
       "</style>\n",
       "<table border=\"1\" class=\"dataframe\">\n",
       "  <thead>\n",
       "    <tr style=\"text-align: right;\">\n",
       "      <th></th>\n",
       "      <th>gender</th>\n",
       "      <th>income</th>\n",
       "      <th>family_number</th>\n",
       "      <th>bought</th>\n",
       "    </tr>\n",
       "  </thead>\n",
       "  <tbody>\n",
       "    <tr>\n",
       "      <td>0</td>\n",
       "      <td>F</td>\n",
       "      <td>+10</td>\n",
       "      <td>1</td>\n",
       "      <td>1</td>\n",
       "    </tr>\n",
       "    <tr>\n",
       "      <td>1</td>\n",
       "      <td>F</td>\n",
       "      <td>-10</td>\n",
       "      <td>1</td>\n",
       "      <td>1</td>\n",
       "    </tr>\n",
       "    <tr>\n",
       "      <td>2</td>\n",
       "      <td>F</td>\n",
       "      <td>+10</td>\n",
       "      <td>2</td>\n",
       "      <td>1</td>\n",
       "    </tr>\n",
       "    <tr>\n",
       "      <td>3</td>\n",
       "      <td>F</td>\n",
       "      <td>+10</td>\n",
       "      <td>1</td>\n",
       "      <td>0</td>\n",
       "    </tr>\n",
       "    <tr>\n",
       "      <td>4</td>\n",
       "      <td>M</td>\n",
       "      <td>+10</td>\n",
       "      <td>1</td>\n",
       "      <td>0</td>\n",
       "    </tr>\n",
       "    <tr>\n",
       "      <td>5</td>\n",
       "      <td>M</td>\n",
       "      <td>+10</td>\n",
       "      <td>1</td>\n",
       "      <td>0</td>\n",
       "    </tr>\n",
       "    <tr>\n",
       "      <td>6</td>\n",
       "      <td>M</td>\n",
       "      <td>-10</td>\n",
       "      <td>2</td>\n",
       "      <td>1</td>\n",
       "    </tr>\n",
       "  </tbody>\n",
       "</table>\n",
       "</div>"
      ],
      "text/plain": [
       "  gender income  family_number  bought\n",
       "0      F    +10              1       1\n",
       "1      F    -10              1       1\n",
       "2      F    +10              2       1\n",
       "3      F    +10              1       0\n",
       "4      M    +10              1       0\n",
       "5      M    +10              1       0\n",
       "6      M    -10              2       1"
      ]
     },
     "execution_count": 133,
     "metadata": {},
     "output_type": "execute_result"
    }
   ],
   "source": [
    "df"
   ]
  },
  {
   "cell_type": "markdown",
   "metadata": {},
   "source": [
    "$$ Entropy = -\\sum_i^n P(x_i) log(P(x_i)) $$"
   ]
  },
  {
   "cell_type": "code",
   "execution_count": 134,
   "metadata": {},
   "outputs": [],
   "source": [
    "def entropy(x):\n",
    "    counter = Counter(x)\n",
    "    total_entropy = float()\n",
    "    \n",
    "    for el in counter:\n",
    "        p = counter[el] / len(x)\n",
    "        \n",
    "        total_entropy += - p * np.log(p)\n",
    "    return total_entropy"
   ]
  },
  {
   "cell_type": "code",
   "execution_count": 135,
   "metadata": {},
   "outputs": [
    {
     "data": {
      "text/plain": [
       "0.5623351446188083"
      ]
     },
     "execution_count": 135,
     "metadata": {},
     "output_type": "execute_result"
    }
   ],
   "source": [
    "entropy([1,1,1,0])"
   ]
  },
  {
   "cell_type": "code",
   "execution_count": 136,
   "metadata": {},
   "outputs": [],
   "source": [
    "def find_optimal_separator(data_frame: pd.DataFrame, target: str):\n",
    "    x_fields = set(data_frame.columns.tolist()) - {target}\n",
    "    min_entropy = float('inf')\n",
    "    \n",
    "    for f in x_fields:\n",
    "        print(f)\n",
    "        values = set(data_frame[f].tolist())\n",
    "        \n",
    "        for v in values:\n",
    "            sub_entropy_1 = entropy(data_frame[data_frame[f] == v][target].tolist())\n",
    "            print(sub_entropy_1)\n",
    "            sub_entropy_2 = entropy(data_frame[data_frame[f] != v][target].tolist())\n",
    "            print(sub_entropy_2)\n",
    "            \n",
    "            total_entropy = sub_entropy_1 + sub_entropy_2\n",
    "            \n",
    "            if total_entropy < min_entropy:\n",
    "                min_entropy = total_entropy\n",
    "                splitor = (f, v)\n",
    "    print(min_entropy)\n",
    "    return splitor\n",
    "        "
   ]
  },
  {
   "cell_type": "code",
   "execution_count": 137,
   "metadata": {},
   "outputs": [
    {
     "name": "stdout",
     "output_type": "stream",
     "text": [
      "gender\n",
      "0.6365141682948128\n",
      "0.5623351446188083\n",
      "0.5623351446188083\n",
      "0.6365141682948128\n",
      "income\n",
      "0.0\n",
      "0.6730116670092565\n",
      "0.6730116670092565\n",
      "0.0\n",
      "family_number\n",
      "0.6730116670092565\n",
      "0.0\n",
      "0.0\n",
      "0.6730116670092565\n",
      "0.6730116670092565\n"
     ]
    },
    {
     "data": {
      "text/plain": [
       "('income', '-10')"
      ]
     },
     "execution_count": 137,
     "metadata": {},
     "output_type": "execute_result"
    }
   ],
   "source": [
    "find_optimal_separator(df, 'bought')"
   ]
  },
  {
   "cell_type": "code",
   "execution_count": 138,
   "metadata": {},
   "outputs": [
    {
     "data": {
      "text/html": [
       "<div>\n",
       "<style scoped>\n",
       "    .dataframe tbody tr th:only-of-type {\n",
       "        vertical-align: middle;\n",
       "    }\n",
       "\n",
       "    .dataframe tbody tr th {\n",
       "        vertical-align: top;\n",
       "    }\n",
       "\n",
       "    .dataframe thead th {\n",
       "        text-align: right;\n",
       "    }\n",
       "</style>\n",
       "<table border=\"1\" class=\"dataframe\">\n",
       "  <thead>\n",
       "    <tr style=\"text-align: right;\">\n",
       "      <th></th>\n",
       "      <th>gender</th>\n",
       "      <th>income</th>\n",
       "      <th>family_number</th>\n",
       "      <th>bought</th>\n",
       "    </tr>\n",
       "  </thead>\n",
       "  <tbody>\n",
       "    <tr>\n",
       "      <td>0</td>\n",
       "      <td>F</td>\n",
       "      <td>+10</td>\n",
       "      <td>1</td>\n",
       "      <td>1</td>\n",
       "    </tr>\n",
       "    <tr>\n",
       "      <td>1</td>\n",
       "      <td>F</td>\n",
       "      <td>-10</td>\n",
       "      <td>1</td>\n",
       "      <td>1</td>\n",
       "    </tr>\n",
       "    <tr>\n",
       "      <td>3</td>\n",
       "      <td>F</td>\n",
       "      <td>+10</td>\n",
       "      <td>1</td>\n",
       "      <td>0</td>\n",
       "    </tr>\n",
       "    <tr>\n",
       "      <td>4</td>\n",
       "      <td>M</td>\n",
       "      <td>+10</td>\n",
       "      <td>1</td>\n",
       "      <td>0</td>\n",
       "    </tr>\n",
       "    <tr>\n",
       "      <td>5</td>\n",
       "      <td>M</td>\n",
       "      <td>+10</td>\n",
       "      <td>1</td>\n",
       "      <td>0</td>\n",
       "    </tr>\n",
       "  </tbody>\n",
       "</table>\n",
       "</div>"
      ],
      "text/plain": [
       "  gender income  family_number  bought\n",
       "0      F    +10              1       1\n",
       "1      F    -10              1       1\n",
       "3      F    +10              1       0\n",
       "4      M    +10              1       0\n",
       "5      M    +10              1       0"
      ]
     },
     "execution_count": 138,
     "metadata": {},
     "output_type": "execute_result"
    }
   ],
   "source": [
    "df[df['family_number'] == 1]"
   ]
  },
  {
   "cell_type": "code",
   "execution_count": 139,
   "metadata": {
    "scrolled": true
   },
   "outputs": [
    {
     "name": "stdout",
     "output_type": "stream",
     "text": [
      "gender\n",
      "0.0\n",
      "0.6365141682948128\n",
      "0.6365141682948128\n",
      "0.0\n",
      "income\n",
      "0.0\n",
      "0.5623351446188083\n",
      "0.5623351446188083\n",
      "0.0\n",
      "family_number\n",
      "0.6730116670092565\n",
      "0.0\n",
      "0.5623351446188083\n"
     ]
    },
    {
     "data": {
      "text/plain": [
       "('income', '-10')"
      ]
     },
     "execution_count": 139,
     "metadata": {},
     "output_type": "execute_result"
    }
   ],
   "source": [
    "find_optimal_separator(df[df['family_number'] == 1], 'bought')"
   ]
  },
  {
   "cell_type": "markdown",
   "metadata": {},
   "source": [
    "# Evaluation 如何评价一个模型的好坏"
   ]
  },
  {
   "cell_type": "markdown",
   "metadata": {},
   "source": [
    "## Example\n",
    "Real tags:  \n",
    "[1, 1, 0, 1, 0, 0, 1, 0, 1, 1]  \n",
    "Model:  \n",
    "[1, 1, 1, 1, 0, 1, 0, 0, 1, 1]"
   ]
  },
  {
   "cell_type": "markdown",
   "metadata": {},
   "source": [
    "## Accuracy"
   ]
  },
  {
   "cell_type": "markdown",
   "metadata": {},
   "source": [
    "预测的标签中，预测正确的值的个数/总的预测的个数"
   ]
  },
  {
   "cell_type": "markdown",
   "metadata": {},
   "source": [
    "7/10"
   ]
  },
  {
   "cell_type": "markdown",
   "metadata": {},
   "source": [
    "##  Precision"
   ]
  },
  {
   "cell_type": "markdown",
   "metadata": {},
   "source": [
    "所有说“是”并且预测正确的个数/所有说“是”的个数  \n",
    "**宁可错杀一千，绝不放过一个**"
   ]
  },
  {
   "cell_type": "markdown",
   "metadata": {},
   "source": [
    "5/8"
   ]
  },
  {
   "cell_type": "markdown",
   "metadata": {},
   "source": [
    "## Recall"
   ]
  },
  {
   "cell_type": "markdown",
   "metadata": {},
   "source": [
    "所有说“是”并且预测正确的个数/所有真正的标签确实为“是”的个数  \n",
    "**绝不错杀一个**"
   ]
  },
  {
   "cell_type": "markdown",
   "metadata": {},
   "source": [
    "5/6"
   ]
  },
  {
   "cell_type": "markdown",
   "metadata": {},
   "source": [
    "Recall 和 Precision往往是trade off的，一个高另一个往往比较低。所以引入了下面的分数"
   ]
  },
  {
   "cell_type": "markdown",
   "metadata": {},
   "source": [
    "## F1 Score = $\\frac{2P(Precision)P(Recall)}{P(Precision)+P(Recall)}$"
   ]
  },
  {
   "cell_type": "markdown",
   "metadata": {},
   "source": [
    "## AUC - Area Under Curve"
   ]
  },
  {
   "cell_type": "markdown",
   "metadata": {},
   "source": [
    "设横坐标轴为“认为高于某一个阈值为正确”里面的阈值，最大为1，如50%代表判断预测的可能性为50%以上时，被分到该类中。  \n",
    "纵坐标为准确率，可以为Recall/Precision/F1 Score，其中F1 score用得比较多，因为考虑的比较全面。  "
   ]
  }
 ],
 "metadata": {
  "kernelspec": {
   "display_name": "Python 3",
   "language": "python",
   "name": "python3"
  },
  "language_info": {
   "codemirror_mode": {
    "name": "ipython",
    "version": 3
   },
   "file_extension": ".py",
   "mimetype": "text/x-python",
   "name": "python",
   "nbconvert_exporter": "python",
   "pygments_lexer": "ipython3",
   "version": "3.7.4"
  }
 },
 "nbformat": 4,
 "nbformat_minor": 2
}
